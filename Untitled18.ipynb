{
 "cells": [
  {
   "cell_type": "code",
   "execution_count": 2,
   "id": "d70ef6aa-c042-4a65-b08a-1ac6e439af2d",
   "metadata": {},
   "outputs": [],
   "source": [
    "import requests \n",
    "import bs4"
   ]
  },
  {
   "cell_type": "code",
   "execution_count": 5,
   "id": "7cfc3f91-529f-47ea-bc71-6fea9ae6b16e",
   "metadata": {},
   "outputs": [
    {
     "data": {
      "text/plain": [
       "<Response [500]>"
      ]
     },
     "execution_count": 5,
     "metadata": {},
     "output_type": "execute_result"
    }
   ],
   "source": [
    "request1=requests.get('https://www.flipkart.com/tyy/4io/~cs-5fqj6bs23u/pr?sid=tyy%2C4io&collection-tab-name=Samsung+Galaxy+F15+5G&param=27989&ctx=eyJjYXJkQ29udGV4dCI6eyJhdHRyaWJ1dGVzIjp7InZhbHVlQ2FsbG91dCI6eyJtdWx0aVZhbHVlZEF0dHJpYnV0ZSI6eyJrZXkiOiJ2YWx1ZUNhbGxvdXQiLCJpbmZlcmVuY2VUeXBlIjoiVkFMVUVfQ0FMTE9VVCIsInZhbHVlcyI6WyJGcm9tIOKCuTEwLDk5OSoiXSwidmFsdWVUeXBlIjoiTVVMVElfVkFMVUVEIn19LCJ0aXRsZSI6eyJtdWx0aVZhbHVlZEF0dHJpYnV0ZSI6eyJrZXkiOiJ0aXRsZSIsImluZmVyZW5jZVR5cGUiOiJUSVRMRSIsInZhbHVlcyI6WyJHYWxheHkgRjE1IDVHIl0sInZhbHVlVHlwZSI6Ik1VTFRJX1ZBTFVFRCJ9fSwiaGVyb1BpZCI6eyJzaW5nbGVWYWx1ZUF0dHJpYnV0ZSI6eyJrZXkiOiJoZXJvUGlkIiwiaW5mZXJlbmNlVHlwZSI6IlBJRCIsInZhbHVlIjoiTU9CR1lCQVZLV0pXU05OUSIsInZhbHVlVHlwZSI6IlNJTkdMRV9WQUxVRUQifX19fX0%3D')\n",
    "request1"
   ]
  },
  {
   "cell_type": "code",
   "execution_count": 12,
   "id": "4d17add9-0734-44a8-b862-55435c830032",
   "metadata": {},
   "outputs": [
    {
     "data": {
      "text/plain": [
       "b'<html><body><h1>500 Internal Server Error</h1>\\nAn internal server error occurred.\\n</body></html>\\n'"
      ]
     },
     "execution_count": 12,
     "metadata": {},
     "output_type": "execute_result"
    }
   ],
   "source": [
    "request1.content"
   ]
  },
  {
   "cell_type": "code",
   "execution_count": 8,
   "id": "30a253d1-c534-4f95-b0ec-7f358ba9ff98",
   "metadata": {},
   "outputs": [],
   "source": [
    "#Now that we,ve fetched the content of webpage,hence we'll save it.\n",
    "\n",
    "#To save the fetched content of a webpage, We use BeautifulSoup method from bs4 library\n",
    "soup=bs4.BeautifulSoup(request1.text)\n",
    "#Till now we,ve fetched the data from a website and saved it.\n",
    "#Now time for fetching reviews,comments."
   ]
  },
  {
   "cell_type": "code",
   "execution_count": 18,
   "id": "972595e2-c5c6-4e27-a1e9-ce5750d86f49",
   "metadata": {},
   "outputs": [],
   "source": [
    "#Fetching Reviews/Comments\n",
    "\n",
    "#reviews=soup.find_all('div',{'class':'t-ZTKy'});\n",
    "#for review in reviews:\n",
    "# print(review.get_text() +\"\\n\")\n",
    "reviews=soup.find_all('div',{'class':'t-ZTKy'});\n",
    "for review in reviews:\n",
    " print(review.get_text() + '\\n')"
   ]
  },
  {
   "cell_type": "code",
   "execution_count": 19,
   "id": "7be6f4e4-9312-49c9-a37e-038c5d77c8cf",
   "metadata": {},
   "outputs": [
    {
     "ename": "AttributeError",
     "evalue": "'NoneType' object has no attribute 'get_text'",
     "output_type": "error",
     "traceback": [
      "\u001b[1;31m---------------------------------------------------------------------------\u001b[0m",
      "\u001b[1;31mAttributeError\u001b[0m                            Traceback (most recent call last)",
      "Cell \u001b[1;32mIn[19], line 3\u001b[0m\n\u001b[0;32m      1\u001b[0m \u001b[38;5;66;03m#overall avg rating\u001b[39;00m\n\u001b[1;32m----> 3\u001b[0m avg_ratings \u001b[38;5;241m=\u001b[39m soup\u001b[38;5;241m.\u001b[39mfind(\u001b[38;5;124m'\u001b[39m\u001b[38;5;124mdiv\u001b[39m\u001b[38;5;124m'\u001b[39m,{\u001b[38;5;124m'\u001b[39m\u001b[38;5;124mclass\u001b[39m\u001b[38;5;124m'\u001b[39m:\u001b[38;5;124m'\u001b[39m\u001b[38;5;124m_2d4LTz\u001b[39m\u001b[38;5;124m'\u001b[39m})\u001b[38;5;241m.\u001b[39mget_text()\n",
      "\u001b[1;31mAttributeError\u001b[0m: 'NoneType' object has no attribute 'get_text'"
     ]
    }
   ],
   "source": [
    "#overall avg rating\n",
    "\n",
    "avg_ratings = soup.find('div',{'class':'_2d4LTz'}).get_text();"
   ]
  },
  {
   "cell_type": "code",
   "execution_count": 14,
   "id": "eabf453a-47fd-4027-aac2-d5c581fc9fa4",
   "metadata": {},
   "outputs": [
    {
     "ename": "NameError",
     "evalue": "name 'avg_ratings' is not defined",
     "output_type": "error",
     "traceback": [
      "\u001b[1;31m---------------------------------------------------------------------------\u001b[0m",
      "\u001b[1;31mNameError\u001b[0m                                 Traceback (most recent call last)",
      "Cell \u001b[1;32mIn[14], line 1\u001b[0m\n\u001b[1;32m----> 1\u001b[0m avg_ratings\n",
      "\u001b[1;31mNameError\u001b[0m: name 'avg_ratings' is not defined"
     ]
    }
   ],
   "source": [
    "avg_ratings"
   ]
  },
  {
   "cell_type": "code",
   "execution_count": 16,
   "id": "d3d27df3-0d43-496a-b98b-b628cba90e2d",
   "metadata": {},
   "outputs": [],
   "source": [
    "#Individual ratings\n",
    "\n",
    "individual_ratings= soup.find_all('div',{'class':'_3LWZlK _1BLPMq'})\n",
    "for ind_rating in individual_ratings:\n",
    " print(ind_rating.get_text()+\"\\n\")"
   ]
  },
  {
   "cell_type": "code",
   "execution_count": 22,
   "id": "8db6e6e3-b23d-4a95-90bc-d47f26a51694",
   "metadata": {},
   "outputs": [],
   "source": [
    "#tags\n",
    "\n",
    "#tags=soup.find('tag_name',{'class':'class_name'}).get_text();\n",
    "#tags\n",
    "#cust_names\n",
    "\n",
    "customer_names=soup.find_all('p',{'class':'_2sc7ZR _2V5EHH'});\n",
    "for cust_names in customer_names:\n",
    " print(cust_names.get_text() + \"\\n\")"
   ]
  },
  {
   "cell_type": "code",
   "execution_count": null,
   "id": "dfb022cf-5c69-48d8-adaf-0a60bd16639c",
   "metadata": {},
   "outputs": [],
   "source": []
  },
  {
   "cell_type": "code",
   "execution_count": null,
   "id": "cb40d338-270c-47c3-a3c7-04b71a3c72a2",
   "metadata": {},
   "outputs": [],
   "source": []
  }
 ],
 "metadata": {
  "kernelspec": {
   "display_name": "Python 3 (ipykernel)",
   "language": "python",
   "name": "python3"
  },
  "language_info": {
   "codemirror_mode": {
    "name": "ipython",
    "version": 3
   },
   "file_extension": ".py",
   "mimetype": "text/x-python",
   "name": "python",
   "nbconvert_exporter": "python",
   "pygments_lexer": "ipython3",
   "version": "3.11.7"
  }
 },
 "nbformat": 4,
 "nbformat_minor": 5
}
